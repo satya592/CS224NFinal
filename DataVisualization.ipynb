{
 "cells": [
  {
   "cell_type": "code",
   "execution_count": 28,
   "metadata": {},
   "outputs": [],
   "source": [
    "# For plotting\n",
    "import matplotlib.pyplot as plt\n",
    "# For defaultdict\n",
    "from collections import defaultdict"
   ]
  },
  {
   "cell_type": "code",
   "execution_count": 32,
   "metadata": {},
   "outputs": [],
   "source": [
    "# Util functions\n",
    "\n",
    "# Get the length of a line(num of words) in a file\n",
    "# and return a dictionary that maps the length to \n",
    "# the frequency in the whole file\n",
    "def getLengths(filename):\n",
    "    lengths = defaultdict(int)\n",
    "    with open(filename, \"r\") as f:\n",
    "        for line in f:\n",
    "            tokens = line.split()\n",
    "            lengths[len(tokens)] += 1\n",
    "    return lengths\n",
    "\n",
    "# Get the ranges in a *.span file and map the ranges to\n",
    "# the frequency in the file\n",
    "def getRanges(filename):\n",
    "    ranges = defaultdict(int)\n",
    "    with open(filename, \"r\") as f:\n",
    "        for line in f:\n",
    "            tokens = line.split()\n",
    "            begin = int(tokens[0])\n",
    "            end = int(tokens[1])\n",
    "            span = range(begin, end+1)\n",
    "            for item in span:\n",
    "                ranges[item] += 1\n",
    "    return ranges\n",
    "\n",
    "# Plot a dictionary\n",
    "def plotDict(dictionary):\n",
    "    x = dictionary.keys()\n",
    "    y = dictionary.values()\n",
    "    plt.scatter(x, y)\n",
    "    plt.show()"
   ]
  },
  {
   "cell_type": "code",
   "execution_count": 18,
   "metadata": {},
   "outputs": [],
   "source": [
    "QLengths = getLengths(\"train.question\")\n",
    "CLengths = getLengths(\"train.context\")\n",
    "ALenghts = getLengths(\"train.answer\")"
   ]
  },
  {
   "cell_type": "code",
   "execution_count": 23,
   "metadata": {},
   "outputs": [],
   "source": [
    "plotDict(QLengths)\n",
    "plotDict(CLenghts)\n",
    "plotDict(ALenghts)"
   ]
  },
  {
   "cell_type": "code",
   "execution_count": 35,
   "metadata": {},
   "outputs": [],
   "source": [
    "ranges = getRanges(\"train.span\")"
   ]
  },
  {
   "cell_type": "code",
   "execution_count": 36,
   "metadata": {},
   "outputs": [],
   "source": [
    "plotDict(ranges)"
   ]
  }
 ],
 "metadata": {
  "kernelspec": {
   "display_name": "Python 2",
   "language": "python",
   "name": "python2"
  },
  "language_info": {
   "codemirror_mode": {
    "name": "ipython",
    "version": 2
   },
   "file_extension": ".py",
   "mimetype": "text/x-python",
   "name": "python",
   "nbconvert_exporter": "python",
   "pygments_lexer": "ipython2",
   "version": "2.7.10"
  }
 },
 "nbformat": 4,
 "nbformat_minor": 2
}
